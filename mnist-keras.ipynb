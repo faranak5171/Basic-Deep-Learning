{
 "cells": [
  {
   "cell_type": "code",
   "execution_count": 84,
   "metadata": {},
   "outputs": [],
   "source": [
    "from keras.datasets import mnist\n",
    "from keras import models, layers\n",
    "from keras.utils import to_categorical\n",
    "\n",
    "import matplotlib.pyplot as plt"
   ]
  },
  {
   "cell_type": "code",
   "execution_count": 85,
   "metadata": {},
   "outputs": [
    {
     "name": "stdout",
     "output_type": "stream",
     "text": [
      "Shape of training images : (60000, 28, 28)\n",
      "Shape of training labels : (60000,)\n",
      "Shape of test images : (10000, 28, 28)\n",
      "Shape of test labels : (10000,)\n"
     ]
    }
   ],
   "source": [
    "(train_image, train_label), (test_image, test_label) = mnist.load_data()\n",
    "\n",
    "print(f\"Shape of training images : {train_image.shape}\")\n",
    "print(f\"Shape of training labels : {train_label.shape}\")\n",
    "print(f\"Shape of test images : {test_image.shape}\")\n",
    "print(f\"Shape of test labels : {test_label.shape}\")"
   ]
  },
  {
   "cell_type": "code",
   "execution_count": 86,
   "metadata": {},
   "outputs": [
    {
     "data": {
      "text/plain": [
       "Text(0.5, 1.0, 'digit 5')"
      ]
     },
     "execution_count": 86,
     "metadata": {},
     "output_type": "execute_result"
    },
    {
     "data": {
      "image/png": "[encoded data removed]",
      "text/plain": [
       "<Figure size 432x288 with 1 Axes>"
      ]
     },
     "metadata": {
      "needs_background": "light"
     },
     "output_type": "display_data"
    }
   ],
   "source": [
    "plt.imshow(train_image[0])\n",
    "plt.title(f\"digit {train_label[0]}\")"
   ]
  },
  {
   "cell_type": "code",
   "execution_count": 87,
   "metadata": {},
   "outputs": [],
   "source": [
    "model = models.Sequential()\n",
    "model.add(layers.Dense(512, activation='relu', input_shape=(28*28,)))\n",
    "model.add(layers.Dropout(rate=0.2))\n",
    "model.add(layers.Dense(10, activation='softmax'))\n",
    "\n",
    "model.compile(optimizer='rmsprop',\n",
    "            loss='categorical_crossentropy',\n",
    "            metrics=['accuracy'])"
   ]
  },
  {
   "cell_type": "code",
   "execution_count": 88,
   "metadata": {},
   "outputs": [],
   "source": [
    "train_image = train_image.reshape((-1, 28*28))\n",
    "test_image = test_image.reshape((-1, 28*28))\n",
    "train_image , test_image = train_image.astype('float32'), test_image.astype('float32')\n",
    "train_image /= 255\n",
    "test_image /= 255\n",
    "\n",
    "train_label = to_categorical(train_label, num_classes=10)\n",
    "test_label = to_categorical(test_label)"
   ]
  },
  {
   "cell_type": "code",
   "execution_count": 89,
   "metadata": {},
   "outputs": [
    {
     "name": "stdout",
     "output_type": "stream",
     "text": [
      "Epoch 1/5\n",
      "469/469 [==============================] - 5s 10ms/step - loss: 0.2673 - accuracy: 0.9221\n",
      "Epoch 2/5\n",
      "469/469 [==============================] - 4s 9ms/step - loss: 0.1171 - accuracy: 0.9653\n",
      "Epoch 3/5\n",
      "469/469 [==============================] - 4s 9ms/step - loss: 0.0819 - accuracy: 0.9754\n",
      "Epoch 4/5\n",
      "469/469 [==============================] - 4s 9ms/step - loss: 0.0644 - accuracy: 0.9805\n",
      "Epoch 5/5\n",
      "469/469 [==============================] - 4s 8ms/step - loss: 0.0516 - accuracy: 0.9846\n"
     ]
    },
    {
     "data": {
      "text/plain": [
       "<tensorflow.python.keras.callbacks.History at 0x2de85bfe550>"
      ]
     },
     "execution_count": 89,
     "metadata": {},
     "output_type": "execute_result"
    }
   ],
   "source": [
    "model.fit(train_image, train_label, batch_size=128, epochs=5)"
   ]
  },
  {
   "cell_type": "code",
   "execution_count": 90,
   "metadata": {},
   "outputs": [
    {
     "name": "stdout",
     "output_type": "stream",
     "text": [
      "313/313 [==============================] - 0s 750us/step - loss: 0.0659 - accuracy: 0.9795\n",
      "The value of loss after evaluation :0.066 and the accuracy is 0.979\n"
     ]
    }
   ],
   "source": [
    "loss , accuracy = model.evaluate(test_image, test_label)\n",
    "print(f\"The value of loss after evaluation :{loss:.3f} and the accuracy is {accuracy:.3f}\")"
   ]
  }
 ],
 "metadata": {
  "kernelspec": {
   "display_name": "Python 3.8.8 ('base')",
   "language": "python",
   "name": "python3"
  },
  "language_info": {
   "codemirror_mode": {
    "name": "ipython",
    "version": 3
   },
   "file_extension": ".py",
   "mimetype": "text/x-python",
   "name": "python",
   "nbconvert_exporter": "python",
   "pygments_lexer": "ipython3",
   "version": "3.8.8"
  },
  "orig_nbformat": 4,
  "vscode": {
   "interpreter": {
    "hash": "2ea5f2e50799e8b0ddd21813cd78803b74c7745ec5e474d6057204079ba613a7"
   }
  }
 },
 "nbformat": 4,
 "nbformat_minor": 2
}
