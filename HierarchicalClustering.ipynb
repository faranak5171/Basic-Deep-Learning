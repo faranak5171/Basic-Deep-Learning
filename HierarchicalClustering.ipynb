{
  "nbformat": 4,
  "nbformat_minor": 0,
  "metadata": {
    "colab": {
      "provenance": [],
      "collapsed_sections": [],
      "authorship_tag": "ABX9TyNZv61RsJ9dA3VoMrGO0Jdc",
      "include_colab_link": true
    },
    "kernelspec": {
      "name": "python3",
      "display_name": "Python 3"
    },
    "language_info": {
      "name": "python"
    }
  },
  "cells": [
    {
      "cell_type": "markdown",
      "metadata": {
        "id": "view-in-github",
        "colab_type": "text"
      },
      "source": [
        "<a href=\"https://colab.research.google.com/github/faranak5171/Data-Manipulation/blob/main/HierarchicalClustering.ipynb\" target=\"_parent\"><img src=\"https://colab.research.google.com/assets/colab-badge.svg\" alt=\"Open In Colab\"/></a>"
      ]
    },
    {
      "cell_type": "code",
      "source": [
        "import random,timeit\n",
        "import numpy as np, pandas as pd\n",
        "import matplotlib.pyplot as plt\n",
        "import seaborn as sns\n",
        "\n",
        "from scipy.cluster.hierarchy import linkage, fcluster\n",
        "from scipy.cluster.vq import whiten"
      ],
      "metadata": {
        "id": "cp1zOLPEEy8H"
      },
      "execution_count": 34,
      "outputs": []
    },
    {
      "cell_type": "code",
      "source": [
        "random.seed(1000)\n",
        "x = random.sample(range(0,1000),10)\n",
        "y = random.sample(range(0,1000),10)\n",
        "\n",
        "x_scaled = whiten(x)\n",
        "y_scaled = whiten(y)\n",
        "\n",
        "fig = plt.figure(figsize=(10,5))\n",
        "fig.add_subplot(1,2,1)\n",
        "plt.scatter(x,y)\n",
        "\n",
        "fig.add_subplot(1,2,2)\n",
        "plt.scatter(x_scaled, y_scaled)"
      ],
      "metadata": {
        "colab": {
          "base_uri": "https://localhost:8080/",
          "height": 337
        },
        "id": "ncv5pCHcE4pn",
        "outputId": "f2dcfbba-846b-4ad9-8496-af2a595ca705"
      },
      "execution_count": 26,
      "outputs": [
        {
          "output_type": "execute_result",
          "data": {
            "text/plain": [
              "<matplotlib.collections.PathCollection at 0x7fec87d7d8d0>"
            ]
          },
          "metadata": {},
          "execution_count": 26
        },
        {
          "output_type": "display_data",
          "data": {
            "text/plain": [
              "<Figure size 720x360 with 2 Axes>"
            ],
            "image/png": "[encoded data removed]"
          },
          "metadata": {
            "needs_background": "light"
          }
        }
      ]
    },
    {
      "cell_type": "code",
      "source": [
        "df = pd.DataFrame({'x_scaled': x_scaled, 'y_scaled':y_scaled})\n",
        "\n",
        "z = linkage(df[['x_scaled','y_scaled']], method='ward', metric='euclidean')\n",
        "df['cluster_labels'] = fcluster(z,2, criterion='maxclust')\n",
        "\n",
        "sns.scatterplot('x_scaled','y_scaled', hue='cluster_labels',data=df)"
      ],
      "metadata": {
        "colab": {
          "base_uri": "https://localhost:8080/",
          "height": 352
        },
        "id": "7wYqbS-JGHhh",
        "outputId": "136dbba7-ec68-45e4-cd1a-e883c5a415cb"
      },
      "execution_count": 35,
      "outputs": [
        {
          "output_type": "stream",
          "name": "stderr",
          "text": [
            "/usr/local/lib/python3.7/dist-packages/seaborn/_decorators.py:43: FutureWarning: Pass the following variables as keyword args: x, y. From version 0.12, the only valid positional argument will be `data`, and passing other arguments without an explicit keyword will result in an error or misinterpretation.\n",
            "  FutureWarning\n"
          ]
        },
        {
          "output_type": "execute_result",
          "data": {
            "text/plain": [
              "<matplotlib.axes._subplots.AxesSubplot at 0x7fec7b1510d0>"
            ]
          },
          "metadata": {},
          "execution_count": 35
        },
        {
          "output_type": "display_data",
          "data": {
            "text/plain": [
              "<Figure size 432x288 with 1 Axes>"
            ],
            "image/png": "[encoded data removed]"
          },
          "metadata": {
            "needs_background": "light"
          }
        }
      ]
    },
    {
      "cell_type": "code",
      "source": [
        "%timeit z"
      ],
      "metadata": {
        "colab": {
          "base_uri": "https://localhost:8080/"
        },
        "id": "2E_DzV3XJY4y",
        "outputId": "a3e8dfda-825e-4aaf-a481-3fc79b4dc983"
      },
      "execution_count": 36,
      "outputs": [
        {
          "output_type": "stream",
          "name": "stdout",
          "text": [
            "31.8 ns ± 0.846 ns per loop (mean ± std. dev. of 7 runs, 10000000 loops each)\n"
          ]
        }
      ]
    }
  ]
}