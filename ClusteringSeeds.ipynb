{
  "nbformat": 4,
  "nbformat_minor": 0,
  "metadata": {
    "colab": {
      "provenance": [],
      "collapsed_sections": [],
      "authorship_tag": "ABX9TyO3cdmmHs9P4oSAltK2lmtS",
      "include_colab_link": true
    },
    "kernelspec": {
      "name": "python3",
      "display_name": "Python 3"
    },
    "language_info": {
      "name": "python"
    }
  },
  "cells": [
    {
      "cell_type": "markdown",
      "metadata": {
        "id": "view-in-github",
        "colab_type": "text"
      },
      "source": [
        "<a href=\"https://colab.research.google.com/github/faranak5171/Data-Manipulation/blob/main/ClusteringSeeds.ipynb\" target=\"_parent\"><img src=\"https://colab.research.google.com/assets/colab-badge.svg\" alt=\"Open In Colab\"/></a>"
      ]
    },
    {
      "cell_type": "code",
      "source": [
        "# DataSet can be downloaded from https://archive.ics.uci.edu/ml/datasets/seeds"
      ],
      "metadata": {
        "id": "cEwBwqdxyaoM"
      },
      "execution_count": 42,
      "outputs": []
    },
    {
      "cell_type": "code",
      "execution_count": 27,
      "metadata": {
        "id": "ignIYLfUm84A"
      },
      "outputs": [],
      "source": [
        "import pandas as pd\n",
        "import numpy as np\n",
        "import matplotlib.pyplot as plt\n",
        "\n",
        "from sklearn.cluster import KMeans\n",
        "from sklearn.preprocessing import StandardScaler\n",
        "from sklearn.pipeline import make_pipeline\n",
        "from sklearn.model_selection import train_test_split"
      ]
    },
    {
      "cell_type": "code",
      "source": [
        "ds_seed = np.loadtxt(\"seeds_dataset.txt\")\n",
        "print(f\"The range of values : [{ds_seed.min()} ,{ds_seed.max()}] So, before clustering we should normalize the data!\")\n",
        "train_ds, test_ds = train_test_split(ds_seed, test_size=0.2, shuffle=True, random_state=42)\n",
        "print(f\"The shape of Train ds: {train_ds.shape}, Test ds: {test_ds.shape}\")"
      ],
      "metadata": {
        "colab": {
          "base_uri": "https://localhost:8080/"
        },
        "id": "9FGCz-vGnSOm",
        "outputId": "077bb90a-5a4b-4a25-ae4c-d062d7846c40"
      },
      "execution_count": 37,
      "outputs": [
        {
          "output_type": "stream",
          "name": "stdout",
          "text": [
            "The range of values : [0.7651 ,21.18] So, before clustering we should normalize the data!\n",
            "The shape of Train ds: (168, 8), Test ds: (42, 8)\n"
          ]
        }
      ]
    },
    {
      "cell_type": "code",
      "source": [
        "inertias = []\n",
        "clusters = range(1,6)\n",
        "for k in clusters:\n",
        "  model = KMeans(n_clusters = k)\n",
        "  model.fit(train_ds)\n",
        "  inertias.append(model.inertia_)"
      ],
      "metadata": {
        "id": "u7vCRVennigg"
      },
      "execution_count": 38,
      "outputs": []
    },
    {
      "cell_type": "code",
      "source": [
        "plt.plot(clusters, inertias, '-o')\n",
        "plt.xlabel(\"Number of clusters\")\n",
        "plt.ylabel(\"Inertia\")\n",
        "plt.show()"
      ],
      "metadata": {
        "colab": {
          "base_uri": "https://localhost:8080/",
          "height": 279
        },
        "id": "n6tCR9K1oKQO",
        "outputId": "0b4a4927-2c1e-4275-ba66-5e937d5f97d7"
      },
      "execution_count": 39,
      "outputs": [
        {
          "output_type": "display_data",
          "data": {
            "text/plain": [
              "<Figure size 432x288 with 1 Axes>"
            ],
            "image/png": "[encoded data removed]"
          },
          "metadata": {
            "needs_background": "light"
          }
        }
      ]
    },
    {
      "cell_type": "code",
      "source": [
        "print(\"According to the Inertia plot, k=3 has lower inertia\")\n",
        "\n",
        "scaler = StandardScaler()\n",
        "kmean = KMeans(n_clusters=3)\n",
        "pipeline = make_pipeline(scaler, kmean)\n",
        "pipeline.fit(train_ds)\n",
        "labels = pipeline.predict(test_ds)\n",
        "print(labels)"
      ],
      "metadata": {
        "colab": {
          "base_uri": "https://localhost:8080/"
        },
        "id": "ocbgYFxYo1cJ",
        "outputId": "5d4839fa-097d-4a4a-c02e-79b3d14b673f"
      },
      "execution_count": 41,
      "outputs": [
        {
          "output_type": "stream",
          "name": "stdout",
          "text": [
            "According to the Inertia plot, k=3 has lower inertia\n",
            "[1 0 2 0 1 0 1 0 1 0 2 0 0 2 1 2 0 1 0 2 2 1 0 2 2 0 1 2 1 0 0 1 2 1 2 2 0\n",
            " 2 2 0 0 0]\n"
          ]
        }
      ]
    }
  ]
}