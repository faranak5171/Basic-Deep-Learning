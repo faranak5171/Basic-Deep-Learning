{
  "cells": [
    {
      "cell_type": "markdown",
      "metadata": {
        "colab_type": "text",
        "id": "view-in-github"
      },
      "source": [
        "<a href=\"https://colab.research.google.com/github/faranak5171/Deep-Learning/blob/master/fashion_mnist_pytorch.ipynb\" target=\"_parent\"><img src=\"https://colab.research.google.com/assets/colab-badge.svg\" alt=\"Open In Colab\"/></a>"
      ]
    },
    {
      "cell_type": "code",
      "execution_count": 1,
      "metadata": {
        "id": "Tp5Z-8x07sWL"
      },
      "outputs": [],
      "source": [
        "import torch\n",
        "from torchvision import datasets, transforms\n",
        "from torch import nn, optim\n",
        "import torch.nn.functional as F\n",
        "\n",
        "import matplotlib.pyplot as plt"
      ]
    },
    {
      "cell_type": "code",
      "execution_count": 2,
      "metadata": {
        "id": "UFioPzZkKVh8"
      },
      "outputs": [],
      "source": [
        "transform = transforms.Compose([transforms.ToTensor(), transforms.Normalize((0.5,),(0.5,))])\n",
        "\n",
        "trainset = datasets.FashionMNIST('~/.pytorch/F_MNIST_data/', download=True, train=True, transform=transform)\n",
        "trainloader = torch.utils.data.DataLoader(trainset, batch_size=64, shuffle=True)\n",
        "\n",
        "testset = datasets.FashionMNIST('~/.pytorch/F_MNIST_data', download=True, train=False, transform=transform)\n",
        "testloader = torch.utils.data.DataLoader(testset, batch_size=64, shuffle=True)\n"
      ]
    },
    {
      "cell_type": "code",
      "execution_count": 3,
      "metadata": {
        "colab": {
          "base_uri": "https://localhost:8080/",
          "height": 282
        },
        "id": "aiQ3gjA6SlLT",
        "outputId": "c53477e3-ba77-4ffe-91e9-6f3f8972cc01"
      },
      "outputs": [
        {
          "data": {
            "text/plain": [
              "<matplotlib.image.AxesImage at 0x27e5fd88640>"
            ]
          },
          "execution_count": 3,
          "metadata": {},
          "output_type": "execute_result"
        },
        {
          "data": {
            "image/png": "[encoded data removed]",
            "text/plain": [
              "<Figure size 432x288 with 1 Axes>"
            ]
          },
          "metadata": {
            "needs_background": "light"
          },
          "output_type": "display_data"
        }
      ],
      "source": [
        "images, labels = next(iter(trainloader))\n",
        "plt.imshow(images[8].squeeze().numpy())"
      ]
    },
    {
      "cell_type": "code",
      "execution_count": 33,
      "metadata": {
        "id": "gShKXRpYTHq5"
      },
      "outputs": [],
      "source": [
        "class Classifier(nn.Module):\n",
        "  def __init__(self):\n",
        "    super().__init__()\n",
        "    self.fc1 = nn.Linear(784,256)\n",
        "    self.fc2 = nn.Linear(256,128)\n",
        "    self.fc3 = nn.Linear(128,64)\n",
        "    self.fc4 = nn.Linear(64,10)\n",
        "    \n",
        "    self.dropout = nn.Dropout(p=0.2)\n",
        "\n",
        "  def forward(self, x):\n",
        "    x = x.view(x.shape[0],-1)\n",
        "    x = self.dropout(F.relu(self.fc1(x)))\n",
        "    x = self.dropout(F.relu(self.fc2(x)))\n",
        "    x = self.dropout(F.relu(self.fc3(x)))\n",
        "    x = F.log_softmax(self.fc4(x), dim=1)\n",
        "    return x"
      ]
    },
    {
      "cell_type": "code",
      "execution_count": 34,
      "metadata": {
        "colab": {
          "base_uri": "https://localhost:8080/"
        },
        "id": "rG8BePXAYYPN",
        "outputId": "7921df75-bd29-4599-b20e-0571249c8959"
      },
      "outputs": [],
      "source": [
        "model = Classifier()\n",
        "criterion = nn.NLLLoss()\n",
        "optimizer = optim.Adam(model.parameters(), lr=0.003)"
      ]
    },
    {
      "cell_type": "code",
      "execution_count": 35,
      "metadata": {},
      "outputs": [
        {
          "name": "stdout",
          "output_type": "stream",
          "text": [
            "Epoch:1/30.. Training loss: 0.610.. Test loss: 0.452.. Accuracy 0.836\n",
            "Epoch:2/30.. Training loss: 0.476.. Test loss: 0.457.. Accuracy 0.831\n",
            "Epoch:3/30.. Training loss: 0.452.. Test loss: 0.438.. Accuracy 0.841\n",
            "Epoch:4/30.. Training loss: 0.432.. Test loss: 0.420.. Accuracy 0.851\n",
            "Epoch:5/30.. Training loss: 0.426.. Test loss: 0.419.. Accuracy 0.851\n",
            "Epoch:6/30.. Training loss: 0.412.. Test loss: 0.394.. Accuracy 0.856\n",
            "Epoch:7/30.. Training loss: 0.400.. Test loss: 0.397.. Accuracy 0.860\n",
            "Epoch:8/30.. Training loss: 0.400.. Test loss: 0.392.. Accuracy 0.860\n",
            "Epoch:9/30.. Training loss: 0.389.. Test loss: 0.410.. Accuracy 0.860\n",
            "Epoch:10/30.. Training loss: 0.389.. Test loss: 0.396.. Accuracy 0.859\n",
            "Epoch:11/30.. Training loss: 0.388.. Test loss: 0.402.. Accuracy 0.856\n",
            "Epoch:12/30.. Training loss: 0.385.. Test loss: 0.391.. Accuracy 0.865\n",
            "Epoch:13/30.. Training loss: 0.373.. Test loss: 0.387.. Accuracy 0.867\n",
            "Epoch:14/30.. Training loss: 0.372.. Test loss: 0.382.. Accuracy 0.870\n",
            "Epoch:15/30.. Training loss: 0.368.. Test loss: 0.394.. Accuracy 0.866\n",
            "Epoch:16/30.. Training loss: 0.367.. Test loss: 0.385.. Accuracy 0.866\n",
            "Epoch:17/30.. Training loss: 0.371.. Test loss: 0.383.. Accuracy 0.870\n",
            "Epoch:18/30.. Training loss: 0.358.. Test loss: 0.380.. Accuracy 0.868\n",
            "Epoch:19/30.. Training loss: 0.363.. Test loss: 0.385.. Accuracy 0.870\n",
            "Epoch:20/30.. Training loss: 0.358.. Test loss: 0.378.. Accuracy 0.871\n",
            "Epoch:21/30.. Training loss: 0.362.. Test loss: 0.358.. Accuracy 0.877\n",
            "Epoch:22/30.. Training loss: 0.355.. Test loss: 0.380.. Accuracy 0.866\n",
            "Epoch:23/30.. Training loss: 0.355.. Test loss: 0.375.. Accuracy 0.874\n",
            "Epoch:24/30.. Training loss: 0.347.. Test loss: 0.361.. Accuracy 0.878\n",
            "Epoch:25/30.. Training loss: 0.349.. Test loss: 0.370.. Accuracy 0.872\n",
            "Epoch:26/30.. Training loss: 0.353.. Test loss: 0.395.. Accuracy 0.870\n",
            "Epoch:27/30.. Training loss: 0.349.. Test loss: 0.384.. Accuracy 0.874\n",
            "Epoch:28/30.. Training loss: 0.346.. Test loss: 0.371.. Accuracy 0.875\n",
            "Epoch:29/30.. Training loss: 0.344.. Test loss: 0.374.. Accuracy 0.875\n",
            "Epoch:30/30.. Training loss: 0.350.. Test loss: 0.362.. Accuracy 0.876\n"
          ]
        }
      ],
      "source": [
        "epochs = 30\n",
        "train_losses, test_losses = [] , []\n",
        "for epoch in range(epochs):\n",
        "    running_loss = 0\n",
        "    for images,labels in trainloader:\n",
        "\n",
        "        optimizer.zero_grad()\n",
        "        \n",
        "        log_ps = model(images)\n",
        "        loss = criterion(log_ps, labels)\n",
        "        loss.backward()\n",
        "        optimizer.step()\n",
        "\n",
        "        running_loss += loss.item()\n",
        "    else:\n",
        "        test_loss = 0\n",
        "        accuracy = 0\n",
        "\n",
        "        with torch.no_grad():\n",
        "          for images, labels in testloader:\n",
        "            #Set model to evaluation mode or turn off the dropout for inference and validation\n",
        "            model.eval()\n",
        "            log_ps = model(images)\n",
        "            test_loss += criterion(log_ps, labels)\n",
        "\n",
        "            ps = torch.exp(log_ps)\n",
        "            top_k, top_class = ps.topk(1, dim=1)\n",
        "            equal = top_class == labels.view(*top_class.shape)\n",
        "            accuracy += torch.mean(equal.type(torch.FloatTensor))\n",
        "        \n",
        "        # Set model to training mode or use dropout to prevent overfitting\n",
        "        model.train()\n",
        "        train_losses.append(running_loss/len(trainloader))\n",
        "        test_losses.append(test_loss/len(testloader))\n",
        "        print(\"Epoch:{}/{}..\".format(epoch+1, epochs),\n",
        "            \"Training loss: {:.3f}..\".format(running_loss / len(trainloader)),\n",
        "            \"Test loss: {:.3f}..\".format(test_loss/len(testloader)),\n",
        "            \"Accuracy {:.3f}\".format(accuracy/len(testloader)))"
      ]
    },
    {
      "cell_type": "code",
      "execution_count": 39,
      "metadata": {},
      "outputs": [],
      "source": [
        "# Save model\n",
        "torch.save(model.state_dict(), 'fashion-mnist.pth')"
      ]
    },
    {
      "cell_type": "code",
      "execution_count": 36,
      "metadata": {},
      "outputs": [
        {
          "data": {
            "text/plain": [
              "<matplotlib.legend.Legend at 0x27e70433ac0>"
            ]
          },
          "execution_count": 36,
          "metadata": {},
          "output_type": "execute_result"
        },
        {
          "data": {
            "image/png": "[encoded data removed]",
            "text/plain": [
              "<Figure size 432x288 with 1 Axes>"
            ]
          },
          "metadata": {
            "needs_background": "light"
          },
          "output_type": "display_data"
        }
      ],
      "source": [
        "plt.plot(train_losses, label=\"Training Loss\")\n",
        "plt.plot(test_losses, label=\"Validation Loss\")\n",
        "plt.legend()"
      ]
    },
    {
      "cell_type": "code",
      "execution_count": 38,
      "metadata": {
        "colab": {
          "base_uri": "https://localhost:8080/",
          "height": 298
        },
        "id": "MqIhLn-tYdMe",
        "outputId": "af726447-9de3-4ce9-e553-00ded0aca0fb"
      },
      "outputs": [
        {
          "data": {
            "text/plain": [
              "Text(0.5, 1.0, 'Pullover')"
            ]
          },
          "execution_count": 38,
          "metadata": {},
          "output_type": "execute_result"
        },
        {
          "data": {
            "image/png": "[encoded data removed]",
            "text/plain": [
              "<Figure size 432x288 with 1 Axes>"
            ]
          },
          "metadata": {
            "needs_background": "light"
          },
          "output_type": "display_data"
        }
      ],
      "source": [
        "# Test network!\n",
        "dataiter = iter(testloader)\n",
        "images, labels = dataiter.next()\n",
        "img = images[0]\n",
        "img = img.resize_(1, 784)\n",
        "\n",
        "# TODO: Calculate the class probabilities (softmax) for img\n",
        "ps = F.softmax(model(img), dim=1)\n",
        "cat_index = torch.argmax(ps)\n",
        "categoris = [\"T-shirt/top\",\"Trouser\",\"Pullover\",\"Dress\",\"Coat\",\"Sandal\",\"Shirt\",\"Sneaker\"]\n",
        "plt.imshow(images[0].squeeze().numpy())\n",
        "plt.title(categoris[cat_index])"
      ]
    }
  ],
  "metadata": {
    "colab": {
      "authorship_tag": "ABX9TyPuyyv0Jtn5IhRe8DvJagus",
      "collapsed_sections": [],
      "include_colab_link": true,
      "name": "fashion_mnist_pytorch.ipynb",
      "provenance": []
    },
    "kernelspec": {
      "display_name": "Python 3.8.8 ('base')",
      "language": "python",
      "name": "python3"
    },
    "language_info": {
      "codemirror_mode": {
        "name": "ipython",
        "version": 3
      },
      "file_extension": ".py",
      "mimetype": "text/x-python",
      "name": "python",
      "nbconvert_exporter": "python",
      "pygments_lexer": "ipython3",
      "version": "3.8.8"
    },
    "vscode": {
      "interpreter": {
        "hash": "2ea5f2e50799e8b0ddd21813cd78803b74c7745ec5e474d6057204079ba613a7"
      }
    }
  },
  "nbformat": 4,
  "nbformat_minor": 0
}
