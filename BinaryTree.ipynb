{
  "nbformat": 4,
  "nbformat_minor": 0,
  "metadata": {
    "colab": {
      "provenance": [],
      "collapsed_sections": [],
      "authorship_tag": "ABX9TyMUuJbYa1hDpJ7IeDnITz38",
      "include_colab_link": true
    },
    "kernelspec": {
      "name": "python3",
      "display_name": "Python 3"
    },
    "language_info": {
      "name": "python"
    }
  },
  "cells": [
    {
      "cell_type": "markdown",
      "metadata": {
        "id": "view-in-github",
        "colab_type": "text"
      },
      "source": [
        "<a href=\"https://colab.research.google.com/github/faranak5171/Data-Manipulation/blob/main/BinaryTree.ipynb\" target=\"_parent\"><img src=\"https://colab.research.google.com/assets/colab-badge.svg\" alt=\"Open In Colab\"/></a>"
      ]
    },
    {
      "cell_type": "code",
      "execution_count": 15,
      "metadata": {
        "id": "CiIJt0_Lj20Z"
      },
      "outputs": [],
      "source": [
        "output = []\n",
        "\n",
        "class Node:\n",
        "\n",
        "  def __init__(self,data):\n",
        "    self.left = None\n",
        "    self.right = None\n",
        "    self.data = data\n",
        "\n",
        "  \n",
        "  def addNode(self,data):\n",
        "    if self.data is None:\n",
        "      self.data = data\n",
        "    else:\n",
        "      if data <  self.data:\n",
        "        if self.left is None:\n",
        "          self.left = Node(data)\n",
        "        else:\n",
        "          self.left.addNode(data)\n",
        "      else:\n",
        "        if self.right is None:\n",
        "          self.right = Node(data)\n",
        "        else:\n",
        "          self.right.addNode(data)\n",
        "  \n",
        "  \n",
        "  def preorder_traversal(self):\n",
        "    global output\n",
        "    output.append(self.data)\n",
        "    if self.left:\n",
        "      self.left.preorder_traversal()\n",
        "    if self.right:\n",
        "      self.right.preorder_traversal()\n",
        "\n",
        "\n",
        "  def postorder_traversal(self):\n",
        "    global output\n",
        "    if self.left:\n",
        "      self.left.postorder_traversal()\n",
        "    if self.right:\n",
        "      self.right.postorder_traversal()\n",
        "    output.append(self.data)\n",
        "\n",
        "\n",
        "  def inorder_traversal(self):\n",
        "    if self.left:\n",
        "      self.left.inorder_traversal()\n",
        "    output.append(self.data)\n",
        "    if self.right:\n",
        "      self.right.inorder_traversal()"
      ]
    },
    {
      "cell_type": "code",
      "source": [
        "root = Node(50)\n",
        "root.addNode(40)\n",
        "root.addNode(60)\n",
        "root.addNode(30)\n",
        "root.addNode(35)\n",
        "output = []\n",
        "root.preorder_traversal()\n",
        "print(\"Preorder Traversal : \", output)\n",
        "output = []\n",
        "root.postorder_traversal()\n",
        "print(\"Postorder Traversal : \", output)\n",
        "output = []\n",
        "root.inorder_traversal()\n",
        "print(\"Inorder Traversal : \", output)"
      ],
      "metadata": {
        "colab": {
          "base_uri": "https://localhost:8080/"
        },
        "id": "FJ20eyTYny9a",
        "outputId": "51e18fd6-19c9-4bc6-9146-d6fbd723c59a"
      },
      "execution_count": 16,
      "outputs": [
        {
          "output_type": "stream",
          "name": "stdout",
          "text": [
            "Preorder Traversal :  [50, 40, 30, 35, 60]\n",
            "Postorder Traversal :  [35, 30, 40, 60, 50]\n",
            "Inorder Traversal :  [30, 35, 40, 50, 60]\n"
          ]
        }
      ]
    }
  ]
}