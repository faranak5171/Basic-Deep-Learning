{
  "nbformat": 4,
  "nbformat_minor": 0,
  "metadata": {
    "colab": {
      "provenance": [],
      "collapsed_sections": [],
      "authorship_tag": "ABX9TyM0X+VxOykFI3zN6Yca3XG0",
      "include_colab_link": true
    },
    "kernelspec": {
      "name": "python3",
      "display_name": "Python 3"
    },
    "language_info": {
      "name": "python"
    },
    "accelerator": "GPU",
    "gpuClass": "standard"
  },
  "cells": [
    {
      "cell_type": "markdown",
      "metadata": {
        "id": "view-in-github",
        "colab_type": "text"
      },
      "source": [
        "<a href=\"https://colab.research.google.com/github/faranak5171/Deep-Learning-projects/blob/master/flower_pytorch.ipynb\" target=\"_parent\"><img src=\"https://colab.research.google.com/assets/colab-badge.svg\" alt=\"Open In Colab\"/></a>"
      ]
    },
    {
      "cell_type": "code",
      "execution_count": 1,
      "metadata": {
        "id": "inkjDefg2iMD"
      },
      "outputs": [],
      "source": [
        "import torch\n",
        "from torchvision import transforms, datasets, models\n",
        "from torch import nn, optim"
      ]
    },
    {
      "cell_type": "code",
      "source": [
        "%%capture\n",
        "! unrar x train.rar train\n",
        "! unrar x valid.rar valid"
      ],
      "metadata": {
        "id": "5idqxEhyARQy"
      },
      "execution_count": 2,
      "outputs": []
    },
    {
      "cell_type": "code",
      "source": [
        "%%capture\n",
        "! unrar x test.rar test"
      ],
      "metadata": {
        "id": "_TU92AGII_Yt"
      },
      "execution_count": 12,
      "outputs": []
    },
    {
      "cell_type": "code",
      "source": [
        "# TODO: Define your transforms for the training, validation, and testing sets\n",
        "transform = transforms.Compose([transforms.Resize(255),\n",
        "                                transforms.CenterCrop(224),\n",
        "                                transforms.ToTensor(),\n",
        "                                transforms.Normalize(mean=[0.485, 0.456, 0.406], std=[0.229, 0.224, 0.225])])\n",
        "\n",
        "# TODO: Load the datasets with ImageFolder\n",
        "train_dataset = datasets.ImageFolder('train', transform=transform)\n",
        "valid_dataset = datasets.ImageFolder('valid', transform=transform)\n",
        "test_dataset = datasets.ImageFolder('test', transform=transform)\n",
        "\n",
        "# TODO: Using the image datasets and the trainforms, define the dataloaders\n",
        "trainloaders = torch.utils.data.DataLoader(train_dataset, batch_size=64, shuffle=True)\n",
        "validloaders = torch.utils.data.DataLoader(valid_dataset, batch_size=64, shuffle=True)\n",
        "testloaders = torch.utils.data.DataLoader(test_dataset, batch_size=64, shuffle=False)"
      ],
      "metadata": {
        "id": "n23v0BSJ2p9O"
      },
      "execution_count": 13,
      "outputs": []
    },
    {
      "cell_type": "code",
      "source": [
        "import json\n",
        "\n",
        "with open('cat_to_name.json', 'r') as f:\n",
        "    cat_to_name = json.load(f)"
      ],
      "metadata": {
        "id": "9M70EbS3_ezL"
      },
      "execution_count": 5,
      "outputs": []
    },
    {
      "cell_type": "code",
      "source": [
        "# TODO: Build and train your network\n",
        "model = models.vgg16(pretrained=True)\n",
        "num_fetures = model.classifier[0].in_features\n",
        "\n",
        "for param in model.parameters():\n",
        "    param.requires_grad = False"
      ],
      "metadata": {
        "id": "-w0km2pl2rQv"
      },
      "execution_count": 8,
      "outputs": []
    },
    {
      "cell_type": "code",
      "source": [
        "model.classifier = nn.Sequential(nn.Linear(num_fetures,204),\n",
        "                                nn.ReLU(),\n",
        "                                nn.Dropout(p=0.2),\n",
        "                                nn.Linear(204,102),\n",
        "                                nn.LogSoftmax(dim=1))\n",
        "\n",
        "criterion = nn.NLLLoss()\n",
        "optimizer = optim.SGD(model.classifier.parameters(), lr=0.01)"
      ],
      "metadata": {
        "id": "_9Nebh4u_l80"
      },
      "execution_count": 9,
      "outputs": []
    },
    {
      "cell_type": "code",
      "source": [
        "device = \"cuda\" if torch.cuda.is_available() else \"cpu\"\n",
        "model.to(device)"
      ],
      "metadata": {
        "colab": {
          "base_uri": "https://localhost:8080/"
        },
        "id": "4jNSHMYN_mrK",
        "outputId": "43116eb6-f154-4b39-dc9d-c74cc900be18"
      },
      "execution_count": 10,
      "outputs": [
        {
          "output_type": "execute_result",
          "data": {
            "text/plain": [
              "VGG(\n",
              "  (features): Sequential(\n",
              "    (0): Conv2d(3, 64, kernel_size=(3, 3), stride=(1, 1), padding=(1, 1))\n",
              "    (1): ReLU(inplace=True)\n",
              "    (2): Conv2d(64, 64, kernel_size=(3, 3), stride=(1, 1), padding=(1, 1))\n",
              "    (3): ReLU(inplace=True)\n",
              "    (4): MaxPool2d(kernel_size=2, stride=2, padding=0, dilation=1, ceil_mode=False)\n",
              "    (5): Conv2d(64, 128, kernel_size=(3, 3), stride=(1, 1), padding=(1, 1))\n",
              "    (6): ReLU(inplace=True)\n",
              "    (7): Conv2d(128, 128, kernel_size=(3, 3), stride=(1, 1), padding=(1, 1))\n",
              "    (8): ReLU(inplace=True)\n",
              "    (9): MaxPool2d(kernel_size=2, stride=2, padding=0, dilation=1, ceil_mode=False)\n",
              "    (10): Conv2d(128, 256, kernel_size=(3, 3), stride=(1, 1), padding=(1, 1))\n",
              "    (11): ReLU(inplace=True)\n",
              "    (12): Conv2d(256, 256, kernel_size=(3, 3), stride=(1, 1), padding=(1, 1))\n",
              "    (13): ReLU(inplace=True)\n",
              "    (14): Conv2d(256, 256, kernel_size=(3, 3), stride=(1, 1), padding=(1, 1))\n",
              "    (15): ReLU(inplace=True)\n",
              "    (16): MaxPool2d(kernel_size=2, stride=2, padding=0, dilation=1, ceil_mode=False)\n",
              "    (17): Conv2d(256, 512, kernel_size=(3, 3), stride=(1, 1), padding=(1, 1))\n",
              "    (18): ReLU(inplace=True)\n",
              "    (19): Conv2d(512, 512, kernel_size=(3, 3), stride=(1, 1), padding=(1, 1))\n",
              "    (20): ReLU(inplace=True)\n",
              "    (21): Conv2d(512, 512, kernel_size=(3, 3), stride=(1, 1), padding=(1, 1))\n",
              "    (22): ReLU(inplace=True)\n",
              "    (23): MaxPool2d(kernel_size=2, stride=2, padding=0, dilation=1, ceil_mode=False)\n",
              "    (24): Conv2d(512, 512, kernel_size=(3, 3), stride=(1, 1), padding=(1, 1))\n",
              "    (25): ReLU(inplace=True)\n",
              "    (26): Conv2d(512, 512, kernel_size=(3, 3), stride=(1, 1), padding=(1, 1))\n",
              "    (27): ReLU(inplace=True)\n",
              "    (28): Conv2d(512, 512, kernel_size=(3, 3), stride=(1, 1), padding=(1, 1))\n",
              "    (29): ReLU(inplace=True)\n",
              "    (30): MaxPool2d(kernel_size=2, stride=2, padding=0, dilation=1, ceil_mode=False)\n",
              "  )\n",
              "  (avgpool): AdaptiveAvgPool2d(output_size=(7, 7))\n",
              "  (classifier): Sequential(\n",
              "    (0): Linear(in_features=25088, out_features=204, bias=True)\n",
              "    (1): ReLU()\n",
              "    (2): Dropout(p=0.2, inplace=False)\n",
              "    (3): Linear(in_features=204, out_features=102, bias=True)\n",
              "    (4): LogSoftmax(dim=1)\n",
              "  )\n",
              ")"
            ]
          },
          "metadata": {},
          "execution_count": 10
        }
      ]
    },
    {
      "cell_type": "code",
      "source": [
        "epochs = 10\n",
        "for epoch in range(epochs):\n",
        "    \n",
        "    model.train()\n",
        "    running_loss = 0\n",
        "    print(\"Start training the model\")\n",
        "    for data, labels in trainloaders:\n",
        "        data, labels = data.to(device), labels.to(device)\n",
        "        optimizer.zero_grad()\n",
        "        logps = model.forward(data)\n",
        "        loss = criterion(logps, labels)\n",
        "        loss.backward()\n",
        "        optimizer.step()\n",
        "        \n",
        "        running_loss += loss.item()\n",
        "    \n",
        "    val_loss = 0\n",
        "    accuracy = 0\n",
        "    model.eval()\n",
        "    print(\"Start Validation the model\")\n",
        "    for data, labels in validloaders:\n",
        "        data, labels = data.to(device), labels.to(device)\n",
        "        logps = model.forward(data)\n",
        "        loss = criterion(logps, labels)\n",
        "        val_loss += loss.item()\n",
        "        \n",
        "        ps = torch.exp(logps)\n",
        "        top_k, top_class = logps.topk(1,dim=1)\n",
        "        equal = top_class == labels.view(*top_class.shape)\n",
        "        accuracy += torch.mean(equal.type(torch.FloatTensor)).item()\n",
        "    \n",
        "    print(f\"epochs: {epoch + 1}/{epochs}.. Average Train Loss:{running_loss/len(trainloaders):.3f}..\"\n",
        "            f\"Average validation Loss:{val_loss/len(validloaders):.3f}.. Accuracy: {accuracy/len(validloaders):.3f}..\")"
      ],
      "metadata": {
        "colab": {
          "base_uri": "https://localhost:8080/"
        },
        "id": "b30qEenC_oTj",
        "outputId": "c6872e93-9f38-4726-b851-6a6e88bea58e"
      },
      "execution_count": 11,
      "outputs": [
        {
          "output_type": "stream",
          "name": "stdout",
          "text": [
            "Start training the model\n",
            "Start Validation the model\n",
            "epochs: 1/10.. Average Train Loss:3.055..Average validation Loss:1.863.. Accuracy: 0.570..\n",
            "Start training the model\n",
            "Start Validation the model\n",
            "epochs: 2/10.. Average Train Loss:1.240..Average validation Loss:1.114.. Accuracy: 0.777..\n",
            "Start training the model\n",
            "Start Validation the model\n",
            "epochs: 3/10.. Average Train Loss:0.684..Average validation Loss:0.808.. Accuracy: 0.838..\n",
            "Start training the model\n",
            "Start Validation the model\n",
            "epochs: 4/10.. Average Train Loss:0.434..Average validation Loss:0.673.. Accuracy: 0.861..\n",
            "Start training the model\n",
            "Start Validation the model\n",
            "epochs: 5/10.. Average Train Loss:0.301..Average validation Loss:0.586.. Accuracy: 0.887..\n",
            "Start training the model\n",
            "Start Validation the model\n",
            "epochs: 6/10.. Average Train Loss:0.227..Average validation Loss:0.535.. Accuracy: 0.895..\n",
            "Start training the model\n",
            "Start Validation the model\n",
            "epochs: 7/10.. Average Train Loss:0.176..Average validation Loss:0.516.. Accuracy: 0.901..\n",
            "Start training the model\n",
            "Start Validation the model\n",
            "epochs: 8/10.. Average Train Loss:0.137..Average validation Loss:0.481.. Accuracy: 0.898..\n",
            "Start training the model\n",
            "Start Validation the model\n",
            "epochs: 9/10.. Average Train Loss:0.119..Average validation Loss:0.462.. Accuracy: 0.912..\n",
            "Start training the model\n",
            "Start Validation the model\n",
            "epochs: 10/10.. Average Train Loss:0.101..Average validation Loss:0.453.. Accuracy: 0.909..\n"
          ]
        }
      ]
    },
    {
      "cell_type": "code",
      "source": [
        "accuracy = 0 \n",
        "for data, labels in testloaders:\n",
        "  data, labels = data.to(device), labels.to(device)\n",
        "  logps = model.forward(data)\n",
        "  ps = torch.exp(logps)\n",
        "  top_k, top_class = ps.topk(1, dim=1)\n",
        "  equal = top_class == labels.view(*top_class.shape)\n",
        "  accuracy += torch.mean(equal.type(torch.FloatTensor)).item()\n",
        "\n",
        "print(f\"Test Accuracy: {accuracy/len(testloaders):.3f}..\")"
      ],
      "metadata": {
        "colab": {
          "base_uri": "https://localhost:8080/"
        },
        "id": "P-fxlEtyIyb_",
        "outputId": "38bbaf78-7594-400b-e617-760552a207db"
      },
      "execution_count": 17,
      "outputs": [
        {
          "output_type": "stream",
          "name": "stdout",
          "text": [
            "Test Accuracy: 0.878..\n"
          ]
        }
      ]
    }
  ]
}