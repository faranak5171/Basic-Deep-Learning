{
  "nbformat": 4,
  "nbformat_minor": 0,
  "metadata": {
    "colab": {
      "provenance": [],
      "collapsed_sections": [],
      "include_colab_link": true
    },
    "kernelspec": {
      "name": "python3",
      "display_name": "Python 3"
    },
    "language_info": {
      "name": "python"
    }
  },
  "cells": [
    {
      "cell_type": "markdown",
      "metadata": {
        "id": "view-in-github",
        "colab_type": "text"
      },
      "source": [
        "<a href=\"https://colab.research.google.com/github/faranak5171/Deep-Learning-projects/blob/master/Dogs_vs_Cats_pytorch.ipynb\" target=\"_parent\"><img src=\"https://colab.research.google.com/assets/colab-badge.svg\" alt=\"Open In Colab\"/></a>"
      ]
    },
    {
      "cell_type": "code",
      "execution_count": 9,
      "metadata": {
        "id": "DJwe5GhdQ7mT"
      },
      "outputs": [],
      "source": [
        "import torch\n",
        "from torchvision import transforms, datasets, models\n",
        "from torch import nn, optim\n",
        "import torch.nn.functional as F\n",
        "\n",
        "import warnings"
      ]
    },
    {
      "cell_type": "code",
      "source": [
        "%%capture\n",
        "! pip install kaggle\n",
        "! mkdir ~/.kaggle\n",
        "! cp kaggle.json ~/.kaggle/\n",
        "! cp kaggle.json ~/.kaggle/\n",
        "! kaggle competitions download dogs-vs-cats\n",
        "! unzip dogs-vs-cats\n",
        "! unzip train.zip -d train\n",
        "! unzip test1.zip -d test"
      ],
      "metadata": {
        "id": "jMqcZxnfuyC2"
      },
      "execution_count": 3,
      "outputs": []
    },
    {
      "cell_type": "code",
      "source": [
        "train_transform = transforms.Compose([transforms.ToTensor(),\n",
        "                                      transforms.Normalize(mean=[0.485, 0.456, 0.406],std=[0.229, 0.224, 0.225]),\n",
        "                                      transforms.RandomResizedCrop(224),\n",
        "                                      transforms.RandomRotation(30),\n",
        "                                      transforms.RandomHorizontalFlip()])\n",
        "\n",
        "test_transform = transforms.Compose([transforms.ToTensor(),\n",
        "                                      transforms.Normalize(mean=[0.485, 0.456, 0.406],std=[0.229, 0.224, 0.225]),\n",
        "                                      transforms.CenterCrop(224),\n",
        "                                      transforms.Resize(255)])"
      ],
      "metadata": {
        "id": "NPmUiVAcjj4v"
      },
      "execution_count": 25,
      "outputs": []
    },
    {
      "cell_type": "code",
      "source": [
        "trainset = datasets.ImageFolder('train', transform=train_transform)\n",
        "testset = datasets.ImageFolder('test', transform=train_transform)"
      ],
      "metadata": {
        "id": "o3tKx4HDkyiE"
      },
      "execution_count": 26,
      "outputs": []
    },
    {
      "cell_type": "code",
      "source": [
        "trainloader = torch.utils.data.DataLoader(trainset, batch_size=32)\n",
        "testLoader = torch.utils.data.DataLoader(testset, batch_size=32)"
      ],
      "metadata": {
        "id": "36o2AOuv4jaH"
      },
      "execution_count": 29,
      "outputs": []
    },
    {
      "cell_type": "code",
      "source": [
        "model = models.densenet121(pretrained=True)\n",
        "\n",
        "for param in model.parameters():\n",
        "  param.requires_grad = False\n",
        "\n",
        "model.classifier = nn.Sequential(nn.Linear(1024,256),\n",
        "                           nn.ReLU(),\n",
        "                           nn.Dropout(p=0.2),\n",
        "                           nn.Linear(256,2),\n",
        "                           nn.LogSoftmax(dim=1))\n",
        "\n",
        "criterion = nn.NLLLoss()\n",
        "optimizer = optim.Adam(model.classifier.parameters(), lr=0.003)"
      ],
      "metadata": {
        "id": "FJS7BaFSr70M"
      },
      "execution_count": 30,
      "outputs": []
    },
    {
      "cell_type": "code",
      "source": [
        "%%capture\n",
        "device = torch.device(\"cuda\" if torch.cuda.is_available() else \"cpu\")\n",
        "model.to(device)"
      ],
      "metadata": {
        "id": "K-x16sBpsuqF"
      },
      "execution_count": 31,
      "outputs": []
    },
    {
      "cell_type": "code",
      "source": [
        "epochs = 1\n",
        "\n",
        "for epoch in range(epochs):\n",
        "  for images, labels in trainloader:\n",
        "    "
      ],
      "metadata": {
        "id": "107IJDex4TrW"
      },
      "execution_count": null,
      "outputs": []
    }
  ]
}